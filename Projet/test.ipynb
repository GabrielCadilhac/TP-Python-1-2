{
 "cells": [
  {
   "cell_type": "code",
   "execution_count": null,
   "metadata": {},
   "outputs": [],
   "source": []
  },
  {
   "cell_type": "code",
   "execution_count": null,
   "metadata": {},
   "outputs": [],
   "source": []
  },
  {
   "cell_type": "code",
   "execution_count": null,
   "metadata": {},
   "outputs": [],
   "source": []
  },
  {
   "cell_type": "code",
   "execution_count": null,
   "metadata": {},
   "outputs": [],
   "source": []
  },
  {
   "cell_type": "code",
   "execution_count": 22,
   "metadata": {
    "scrolled": false
   },
   "outputs": [
    {
     "name": "stderr",
     "output_type": "stream",
     "text": [
      "Exception in Tkinter callback\n",
      "Traceback (most recent call last):\n",
      "  File \"D:\\Program Files\\Anaconda\\lib\\tkinter\\__init__.py\", line 1705, in __call__\n",
      "    return self.func(*args)\n",
      "  File \"<ipython-input-22-048117793582>\", line 34, in clic\n",
      "    print(event.widget[\"focus\"])\n",
      "  File \"D:\\Program Files\\Anaconda\\lib\\tkinter\\__init__.py\", line 1489, in cget\n",
      "    return self.tk.call(self._w, 'cget', '-' + key)\n",
      "_tkinter.TclError: unknown option \"-focus\"\n"
     ]
    }
   ],
   "source": [
    "from tkinter import Canvas, Tk, PhotoImage, Button\n",
    "import pygame\n",
    "from random import randint\n",
    "\n",
    "root=Tk()\n",
    "pygame.mixer.pre_init(44100, -16, 1, 512)\n",
    "pygame.mixer.init()\n",
    "drapeau1 = pygame.mixer.Sound(\"musiques/drapeau1.wav\")\n",
    "drapeau2 = pygame.mixer.Sound(\"musiques/drapeau2.wav\")\n",
    "gagne = pygame.mixer.Sound(\"musiques/gagne.wav\")\n",
    "perdu = pygame.mixer.Sound(\"musiques/perdu.wav\")\n",
    "bloc_1 = pygame.mixer.Sound(\"musiques/bloc_1.wav\")\n",
    "bloc_2 = pygame.mixer.Sound(\"musiques/bloc_2.wav\")\n",
    "\n",
    "def createCanvas(w,h):\n",
    "    cnv=Canvas(root, width=w, height=h, bg=\"gray\")\n",
    "    cnv.pack()\n",
    "    return cnv\n",
    "\n",
    "def lancer1():\n",
    "    drapeau1.play()\n",
    "def lancer2():\n",
    "    drapeau2.play()\n",
    "def lancer3():\n",
    "    gagne.play()\n",
    "def lancer4():\n",
    "    perdu.play()\n",
    "def lancer5():\n",
    "    bloc_1.play()\n",
    "def lancer6():\n",
    "    bloc_2.play()\n",
    "    \n",
    "def clic(event):\n",
    "    print(event.widget[\"focus\"])\n",
    "    \n",
    "imgSourire = PhotoImage(file=\"sourire.gif\")\n",
    "imgMort = PhotoImage(file=\"mort.gif\")\n",
    "imgClic = PhotoImage(file=\"click.gif\")\n",
    "\n",
    "game = createCanvas(400,400)\n",
    "game.create_text(200,100,text=\"GAME\", font=('courier', 80, 'bold'), fill=\"red\")\n",
    "root.bind(\"<Button-1>\", clic)\n",
    "\n",
    "btnDrapeau1 = Button(root, text=\"drapeau1\", command=lancer1)\n",
    "btnDrapeau1.pack()\n",
    "btnDrapeau2 = Button(root, text=\"drapeau2\", command=lancer2)\n",
    "btnDrapeau2.pack()\n",
    "btnGagne = Button(root, text=\"gagne\", command=lancer3)\n",
    "btnGagne.pack()\n",
    "btnPerdu = Button(root, text=\"perdu\", command=lancer4)\n",
    "btnPerdu.pack()\n",
    "btnBloc1 = Button(root, text=\"bloc1\", command=lancer5)\n",
    "btnBloc1.pack()\n",
    "btnBloc2 = Button(root, text=\"bloc2\", command=lancer6)\n",
    "btnBloc2.pack()\n",
    "\n",
    "root.mainloop()"
   ]
  },
  {
   "cell_type": "code",
   "execution_count": null,
   "metadata": {},
   "outputs": [],
   "source": []
  }
 ],
 "metadata": {
  "kernelspec": {
   "display_name": "Python 3",
   "language": "python",
   "name": "python3"
  },
  "language_info": {
   "codemirror_mode": {
    "name": "ipython",
    "version": 3
   },
   "file_extension": ".py",
   "mimetype": "text/x-python",
   "name": "python",
   "nbconvert_exporter": "python",
   "pygments_lexer": "ipython3",
   "version": "3.7.3"
  }
 },
 "nbformat": 4,
 "nbformat_minor": 2
}
