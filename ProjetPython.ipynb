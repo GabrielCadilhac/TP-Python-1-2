{
 "cells": [
  {
   "cell_type": "code",
   "execution_count": 16,
   "metadata": {
    "collapsed": false
   },
   "outputs": [
    {
     "ename": "TypeError",
     "evalue": "random_mines() takes 2 positional arguments but 4 were given",
     "output_type": "error",
     "traceback": [
      "\u001b[0;31m---------------------------------------------------------------------------\u001b[0m",
      "\u001b[0;31mTypeError\u001b[0m                                 Traceback (most recent call last)",
      "\u001b[0;32m<ipython-input-16-ffee01ff5642>\u001b[0m in \u001b[0;36m<module>\u001b[0;34m()\u001b[0m\n\u001b[1;32m     71\u001b[0m \u001b[0;34m\u001b[0m\u001b[0m\n\u001b[1;32m     72\u001b[0m \u001b[0;34m\u001b[0m\u001b[0m\n\u001b[0;32m---> 73\u001b[0;31m \u001b[0mstart\u001b[0m\u001b[0;34m(\u001b[0m\u001b[0mclick\u001b[0m\u001b[0;34m,\u001b[0m\u001b[0mn\u001b[0m\u001b[0;34m,\u001b[0m\u001b[0mp\u001b[0m\u001b[0;34m)\u001b[0m\u001b[0;34m\u001b[0m\u001b[0m\n\u001b[0m\u001b[1;32m     74\u001b[0m \u001b[0;34m\u001b[0m\u001b[0m\n\u001b[1;32m     75\u001b[0m \u001b[0;31m#Modifier la densité en fonction du click\u001b[0m\u001b[0;34m\u001b[0m\u001b[0;34m\u001b[0m\u001b[0m\n",
      "\u001b[0;32m<ipython-input-16-ffee01ff5642>\u001b[0m in \u001b[0;36mstart\u001b[0;34m(click, n, p)\u001b[0m\n\u001b[1;32m     42\u001b[0m \u001b[0;34m\u001b[0m\u001b[0m\n\u001b[1;32m     43\u001b[0m \u001b[0;32mdef\u001b[0m \u001b[0mstart\u001b[0m\u001b[0;34m(\u001b[0m\u001b[0mclick\u001b[0m\u001b[0;34m,\u001b[0m\u001b[0mn\u001b[0m\u001b[0;34m,\u001b[0m\u001b[0mp\u001b[0m\u001b[0;34m)\u001b[0m\u001b[0;34m:\u001b[0m\u001b[0;34m\u001b[0m\u001b[0m\n\u001b[0;32m---> 44\u001b[0;31m     \u001b[0mupdate\u001b[0m\u001b[0;34m(\u001b[0m\u001b[0mp\u001b[0m\u001b[0;34m)\u001b[0m\u001b[0;34m\u001b[0m\u001b[0m\n\u001b[0m\u001b[1;32m     45\u001b[0m     \u001b[0;31m#N = nombre(mines,n)\u001b[0m\u001b[0;34m\u001b[0m\u001b[0;34m\u001b[0m\u001b[0m\n\u001b[1;32m     46\u001b[0m     \u001b[0;31m#L = nombre(mines,n)\u001b[0m\u001b[0;34m\u001b[0m\u001b[0;34m\u001b[0m\u001b[0m\n",
      "\u001b[0;32m<ipython-input-16-ffee01ff5642>\u001b[0m in \u001b[0;36mupdate\u001b[0;34m(p)\u001b[0m\n\u001b[1;32m     60\u001b[0m         \u001b[0;32mif\u001b[0m \u001b[0mclick_x\u001b[0m\u001b[0;34m+\u001b[0m\u001b[0mi\u001b[0m \u001b[0;32mor\u001b[0m \u001b[0mclick_x\u001b[0m\u001b[0;34m-\u001b[0m\u001b[0mi\u001b[0m \u001b[0;32mor\u001b[0m \u001b[0mclick_y\u001b[0m\u001b[0;34m+\u001b[0m\u001b[0mi\u001b[0m \u001b[0;32mor\u001b[0m \u001b[0mclick_y\u001b[0m\u001b[0;34m-\u001b[0m\u001b[0mi\u001b[0m\u001b[0;34m:\u001b[0m\u001b[0;34m\u001b[0m\u001b[0m\n\u001b[1;32m     61\u001b[0m             \u001b[0mg\u001b[0m \u001b[0;34m=\u001b[0m \u001b[0mgenere\u001b[0m\u001b[0;34m(\u001b[0m\u001b[0mn\u001b[0m\u001b[0;34m,\u001b[0m \u001b[0mclick_x\u001b[0m\u001b[0;34m,\u001b[0m \u001b[0mclick_y\u001b[0m\u001b[0;34m,\u001b[0m\u001b[0mi\u001b[0m\u001b[0;34m)\u001b[0m\u001b[0;34m\u001b[0m\u001b[0m\n\u001b[0;32m---> 62\u001b[0;31m             \u001b[0mrandom_mines\u001b[0m\u001b[0;34m(\u001b[0m\u001b[0mn\u001b[0m\u001b[0;34m,\u001b[0m\u001b[0mp\u001b[0m\u001b[0;34m,\u001b[0m \u001b[0mstates\u001b[0m\u001b[0;34m,\u001b[0m \u001b[0mg\u001b[0m\u001b[0;34m)\u001b[0m\u001b[0;34m\u001b[0m\u001b[0m\n\u001b[0m\u001b[1;32m     63\u001b[0m             \u001b[0mp\u001b[0m \u001b[0;34m+=\u001b[0m \u001b[0;36m0.05\u001b[0m\u001b[0;34m\u001b[0m\u001b[0m\n\u001b[1;32m     64\u001b[0m             \u001b[0;32mfor\u001b[0m \u001b[0;34m(\u001b[0m\u001b[0ma\u001b[0m\u001b[0;34m,\u001b[0m\u001b[0mb\u001b[0m\u001b[0;34m)\u001b[0m \u001b[0;32min\u001b[0m \u001b[0mmines\u001b[0m\u001b[0;34m:\u001b[0m\u001b[0;34m\u001b[0m\u001b[0m\n",
      "\u001b[0;31mTypeError\u001b[0m: random_mines() takes 2 positional arguments but 4 were given"
     ]
    }
   ],
   "source": [
    "from random import *\n",
    "\n",
    "click_x = 2\n",
    "click_y = 3\n",
    "\n",
    "p = 0.001\n",
    "n = 25\n",
    "\n",
    "lst_mines = []\n",
    "\n",
    "def random_mines(n,p):\n",
    "    grid = [(line,col) for col in range(0,n) for line in range(0,n)]\n",
    "    nmines = int(n**2*p)\n",
    "    mines = sample(grid, nmines)\n",
    "    return mines\n",
    "\n",
    "def voisins(n, i, j, r,s):\n",
    "    \"Dans une grille n x n, indices (ligne, colonne) des voisins dans la grille d'un sommet (i,j) de la grille\"\n",
    "    return [(a,b) for (a, b) in [(i-r, j+s),(i-r, j-s), (i-s, j-r), (i+s,j-r), (i+s,j-s),(i+s,j+s),(i-s,j+s),(i-s,j-s)] if a in range(n) and b in range(n)]\n",
    "\n",
    "def genere(n,i,j,r):\n",
    "    L = []\n",
    "    for x in range(-r,r):\n",
    "        L.append([])\n",
    "        for y in range(-r,r):\n",
    "            if x < r-1 or x > r+1 or y < r-1 or y > r+1:\n",
    "                L[x].append((x,y))\n",
    "    return L\n",
    "\n",
    "def nombre(mines,n):\n",
    "    grid = [[0]*n for _ in range(n)]\n",
    "    for (i,j) in mines:\n",
    "        v = voisins(n,i,j,1)\n",
    "        for (a,b) in v:\n",
    "            if not((a,b) in mines):\n",
    "                grid[a][b] += 1\n",
    "                \n",
    "    for (x,y) in mines:\n",
    "        grid[x][y] = \"X\"\n",
    "    \n",
    "    return grid\n",
    "\n",
    "def start(click,n,p):\n",
    "    update(p)\n",
    "    #N = nombre(mines,n)\n",
    "    #L = nombre(mines,n)\n",
    "    #afficher(N)\n",
    "\n",
    "def afficher(grid):\n",
    "    for i in range(len(grid)):\n",
    "        for j in range(len(grid[0])):\n",
    "            print(grid[i][j], end = \" \")\n",
    "        print()\n",
    "        \n",
    "def update(p):\n",
    "    grid = [(line,col) for col in range(0,n) for line in range(0,n)]\n",
    "    states=[[0]*n for _ in range(n)]\n",
    "    \n",
    "    for i in range(4):\n",
    "        if click_x+i or click_x-i or click_y+i or click_y-i:            \n",
    "            g = genere(n, click_x, click_y,i)\n",
    "            random_mines(n,p, states, g)\n",
    "            p += 0.05\n",
    "            for (a,b) in mines:\n",
    "                lst_mines.append((a,b))\n",
    "    \n",
    "    states=[[0]*n for _ in range(n)]\n",
    "    \n",
    "    for (a,b) in lst_mines:\n",
    "        states[a][b] = 1\n",
    "    \n",
    "    \n",
    "start(click,n,p)\n",
    "\n",
    "#Modifier la densité en fonction du click"
   ]
  },
  {
   "cell_type": "code",
   "execution_count": null,
   "metadata": {
    "collapsed": true
   },
   "outputs": [],
   "source": []
  }
 ],
 "metadata": {
  "kernelspec": {
   "display_name": "Python 3",
   "language": "python",
   "name": "python3"
  },
  "language_info": {
   "codemirror_mode": {
    "name": "ipython",
    "version": 3
   },
   "file_extension": ".py",
   "mimetype": "text/x-python",
   "name": "python",
   "nbconvert_exporter": "python",
   "pygments_lexer": "ipython3",
   "version": "3.5.3"
  }
 },
 "nbformat": 4,
 "nbformat_minor": 2
}
