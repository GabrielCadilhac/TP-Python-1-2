{
 "cells": [
  {
   "cell_type": "markdown",
   "metadata": {},
   "source": [
    "model0 :"
   ]
  },
  {
   "cell_type": "code",
   "execution_count": 47,
   "metadata": {
    "collapsed": false
   },
   "outputs": [
    {
     "name": "stdout",
     "output_type": "stream",
     "text": [
      " 1  7  3  8\n",
      " 5  2  4  6\n",
      " 9 14  0 11\n",
      "13 15 10 12\n",
      "\n",
      " 1  7  3  8\n",
      " 5  2  4  6\n",
      " 9 14 11  0\n",
      "13 15 10 12\n",
      "\n",
      "(2, 3)\n"
     ]
    }
   ],
   "source": [
    "from random import randrange\n",
    "\n",
    "NB_SQUARES=4\n",
    "\n",
    "def shuffle_board(n=NB_SQUARES, N=100):\n",
    "    # Renvoie un plateau bien mélangé\n",
    "    # N : Nombre de mélanges\n",
    "\n",
    "    def echange(board, empty):\n",
    "        i, j=empty\n",
    "        V=[(a,b) for (a, b) in\n",
    "                [(i, j+1),(i, j-1), (i-1, j), (i+1,j)]\n",
    "                if a in range(n) and b in range(n)]\n",
    "        ii, jj=V[randrange(len(V))]\n",
    "        board[ii][jj], board[i][j]=board[i][j],board[ii][jj]\n",
    "        return ii, jj\n",
    "    \n",
    "    board=[[n*lin+col+1 for col in range(n)]\n",
    "        for lin in range(n)]\n",
    "    board[n-1][n-1]=0\n",
    "    empty=(n-1,n-1)\n",
    "\n",
    "    for i in range(N):\n",
    "        empty=echange(board, empty)\n",
    "        \n",
    "    return board\n",
    "\n",
    "def voisins(n,i,j):\n",
    "    L = []\n",
    "    if not(i+1 >= n):\n",
    "        L.append((i+1,j))\n",
    "    if not(j+1 >= n):\n",
    "        L.append((i,j+1))\n",
    "    if not(i-1 < 0):\n",
    "        L.append((i-1,j))\n",
    "    if not(j-1<0):\n",
    "        L.append((i,j-1))\n",
    "    return L\n",
    "\n",
    "def caseVide(board,i,j):\n",
    "    for (x,y) in voisins(NB_SQUARES,i,j):\n",
    "        if board[x][y] == 0:\n",
    "            return (x,y)\n",
    "    return None\n",
    "\n",
    "def swap(board,i,j):\n",
    "    if caseVide(board,i,j) != None:\n",
    "        x,y = caseVide(board,i,j)\n",
    "        board[x][y] = board[i][j]\n",
    "        board[i][j] = 0\n",
    "\n",
    "    if win(board)==True:\n",
    "        print(\"GAGNE !\")\n",
    "        \n",
    "    return board\n",
    "\n",
    "def win(board):\n",
    "    grid=[[n*lin+col+1 for col in range(n)]\n",
    "    for lin in range(n)]\n",
    "    \n",
    "    for i in range(len(board)):\n",
    "        for j in range(len(board[0])):\n",
    "            if grid[i][j] != board[i][j]:\n",
    "                return False\n",
    "    return True\n",
    "\n",
    "def find_empty(board):\n",
    "    for i in range(len(board)):\n",
    "        for j in range(len(board[0])):\n",
    "            if board[i][j] == 0:\n",
    "                return (i,j)    \n",
    "    \n",
    "def print_board(board):\n",
    "    print('\\n'.join([' '.join([\"%2s\"%v for v in L ]) for L in board]))\n",
    "\n",
    "\n",
    "board = shuffle_board()\n",
    "print_board(board)\n",
    "swap(board,2,3)\n",
    "print()\n",
    "print_board(board)\n",
    "print()"
   ]
  },
  {
   "cell_type": "code",
   "execution_count": 8,
   "metadata": {
    "collapsed": true
   },
   "outputs": [],
   "source": [
    "vue1 :"
   ]
  },
  {
   "cell_type": "code",
   "execution_count": 61,
   "metadata": {
    "collapsed": false
   },
   "outputs": [
    {
     "name": "stdout",
     "output_type": "stream",
     "text": [
      "1\n",
      "3\n",
      "2\n",
      "1\n",
      "3\n",
      "2\n",
      "1\n",
      "3\n"
     ]
    }
   ],
   "source": [
    "from model1 import shuffle_board, caseVide, swap, win\n",
    "from tkinter import *\n",
    "\n",
    "CANVAS_SIDE=400\n",
    "NB_SQUARES=2\n",
    "R=CANVAS_SIDE//NB_SQUARES\n",
    "\n",
    "def fill_board(cnv, board, n=NB_SQUARES):\n",
    "    cnv.delete(ALL)    \n",
    "    for i in range(n):\n",
    "        for j in range(n):\n",
    "            v=board[i][j]\n",
    "            if v:\n",
    "                cnv.create_rectangle(j*R, i*R, (1+j)*R, (1+i)*R, fill=\"lavender\")\n",
    "                cnv.create_text(j*R+R//2, i*R+R//2, text=v,  font=('courier', CANVAS_SIDE//10, 'bold'))\n",
    "\n",
    "                \n",
    "def pos2lineCol(x, y):\n",
    "    return x//R,y//R\n",
    "\n",
    "def melanger():\n",
    "    global board\n",
    "    # ok : un plateau terminé\n",
    "    ok=[[n*lin+col+1 for col in range(n)]\n",
    "        for lin in range(n)]\n",
    "    ok[n-1][n-1]=0\n",
    "    \n",
    "    board=shuffle_board(n,2*n**2)\n",
    "    # être certain que le plateau a bien été mélangé\n",
    "        \n",
    "    fill_board(cnv, board)\n",
    "\n",
    "    \n",
    "def clic(event):\n",
    "    if win(board)==False:\n",
    "        x,y = pos2lineCol(event.x,event.y)\n",
    "        print(board[y][x])\n",
    "        if caseVide(board,y,x) != None:\n",
    "            swap(board,y,x)\n",
    "        fill_board(cnv, board)\n",
    "        if win(board):\n",
    "            cnv.create_text(CANVAS_SIDE//2, CANVAS_SIDE//2, text=\"YOU WIN !\",  font=('courier', CANVAS_SIDE//10, 'bold'))\n",
    "    \n",
    "    \n",
    "    \n",
    "master=Tk()\n",
    "cnv=Canvas(master, width=CANVAS_SIDE, height=CANVAS_SIDE, bg='ivory')\n",
    "cnv.pack(side='left')\n",
    "\n",
    "btn=Button(master, text=\"Mélanger\", command=melanger)\n",
    "btn.pack()\n",
    "\n",
    "master.bind(\"<Button-1>\", clic)\n",
    "board=None\n",
    "n=NB_SQUARES\n",
    "\n",
    "melanger()\n",
    "\n",
    "master.mainloop() "
   ]
  }
 ],
 "metadata": {
  "kernelspec": {
   "display_name": "Python 3",
   "language": "python",
   "name": "python3"
  },
  "language_info": {
   "codemirror_mode": {
    "name": "ipython",
    "version": 3
   },
   "file_extension": ".py",
   "mimetype": "text/x-python",
   "name": "python",
   "nbconvert_exporter": "python",
   "pygments_lexer": "ipython3",
   "version": "3.5.3"
  }
 },
 "nbformat": 4,
 "nbformat_minor": 2
}
