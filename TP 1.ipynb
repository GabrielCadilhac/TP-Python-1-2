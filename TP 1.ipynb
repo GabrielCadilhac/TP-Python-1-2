{
 "cells": [
  {
   "cell_type": "markdown",
   "metadata": {},
   "source": [
    "Puissance 4 :"
   ]
  },
  {
   "cell_type": "code",
   "execution_count": 1,
   "metadata": {
    "collapsed": false
   },
   "outputs": [],
   "source": [
    "from tkinter import *\n",
    "root = Tk()\n",
    "\n",
    "h = 400\n",
    "w = 600\n",
    "x = 0\n",
    "y = h\n",
    "\n",
    "cnv=Canvas(root, width=w, height=h, background=\"ivory\")\n",
    "cnv.pack()\n",
    "\n",
    "cnv.create_rectangle(x,y, w, h-h/20, fill=\"blue\")\n",
    "x = 0.1*w\n",
    "y = h/40\n",
    "cnv.create_rectangle(x,y, w-x, h, fill=\"blue\")\n",
    "\n",
    "L = w-x\n",
    "l = 6\n",
    "c = 7\n",
    "\n",
    "\n",
    "def dot(cnv, x,y, R, color):\n",
    "    xC = x\n",
    "    yC = y\n",
    "    A=(xC-R, yC-R)\n",
    "    B=(xC+R, yC+R)\n",
    "    return cnv.create_oval(A,B, fill=color, outline=color)\n",
    "\n",
    "e = 15\n",
    "r = L/(4*l)\n",
    "x += r+e*3\n",
    "y += r+e\n",
    "for i in range(l):\n",
    "    for j in range(c):    \n",
    "        if i == 3 and j == 2:\n",
    "            dot(cnv, x,y,r,\"red\")\n",
    "        elif i == 4 and j == 2:\n",
    "            dot(cnv, x,y,r,\"yellow\")\n",
    "        else:\n",
    "            dot(cnv, x,y,r,\"white\")\n",
    "        x += r*2+e\n",
    "    x = 0.1*w+r+e*3\n",
    "    y += r*2+e\n",
    "\n",
    "\n",
    "\n",
    "\n",
    "root.mainloop()"
   ]
  },
  {
   "cell_type": "markdown",
   "metadata": {},
   "source": [
    "Exercice 2 : Forêt "
   ]
  },
  {
   "cell_type": "code",
   "execution_count": 22,
   "metadata": {
    "collapsed": false
   },
   "outputs": [
    {
     "name": "stdout",
     "output_type": "stream",
     "text": [
      "167\n"
     ]
    }
   ],
   "source": [
    "from tkinter import *\n",
    "from random import randrange\n",
    "root = Tk()\n",
    "\n",
    "w = 400\n",
    "h = 400\n",
    "c = 10\n",
    "x = 0\n",
    "y = 0\n",
    "d = 10\n",
    "comp = 0\n",
    "cnv=Canvas(root, width=w, height=h, background=\"ivory\")\n",
    "cnv.pack()\n",
    "\n",
    "for i in range(0,w//c+1):\n",
    "    for j in range(0,h//c+1):\n",
    "        if randrange(d) == 1:\n",
    "            comp += 1\n",
    "            cnv.create_rectangle(x,y,x+c,y+c,fill=\"light green\", outline=\"light green\")\n",
    "        x += c\n",
    "    x = 0\n",
    "    y += c\n",
    "print(comp)\n",
    "\n",
    "root.mainloop()"
   ]
  },
  {
   "cell_type": "code",
   "execution_count": 33,
   "metadata": {
    "collapsed": false
   },
   "outputs": [
    {
     "name": "stdout",
     "output_type": "stream",
     "text": [
      "[[0, 1, 0, 1, 0, 1, 0, 1, 0, 1], [1, 0, 1, 0, 1, 0, 1, 0, 1, 0], [0, 1, 0, 1, 0, 1, 0, 1, 0, 1], [1, 0, 1, 0, 1, 0, 1, 0, 1, 0], [0, 1, 0, 1, 0, 1, 0, 1, 0, 1], [1, 0, 1, 0, 1, 0, 1, 0, 1, 0], [0, 1, 0, 1, 0, 1, 0, 1, 0, 1], [1, 0, 1, 0, 1, 0, 1, 0, 1, 0], [0, 1, 0, 1, 0, 1, 0, 1, 0, 1], [1, 0, 1, 0, 1, 0, 1, 0, 1, 0]]\n"
     ]
    }
   ],
   "source": [
    "from random import sample\n",
    "from tkinter import *\n",
    "root = Tk()\n",
    "\n",
    "c = [\"ivory\", \"lime green\"]\n",
    "L = []\n",
    "n = 10\n",
    "def arbre(d,c):\n",
    "    grille = []\n",
    "    for \n",
    "\n",
    "root.mainloop()"
   ]
  },
  {
   "cell_type": "markdown",
   "metadata": {
    "collapsed": true
   },
   "source": [
    "Exercice 3 :"
   ]
  },
  {
   "cell_type": "code",
   "execution_count": 54,
   "metadata": {
    "collapsed": false
   },
   "outputs": [
    {
     "name": "stdout",
     "output_type": "stream",
     "text": [
      "[[1, 2, 3, 4], [5, 6, 7, 8], [9, 10, 11, 12], [13, 14, 15, 16]]\n"
     ]
    }
   ],
   "source": [
    "from tkinter import *\n",
    "root = Tk()\n",
    "\n",
    "w = 400\n",
    "h = 400\n",
    "c = (w/4)\n",
    "x = 0\n",
    "y = 0\n",
    "n = 4\n",
    "t = 0\n",
    "\n",
    "cnv=Canvas(root, width=w, height=h, background=\"ivory\")\n",
    "cnv.pack()\n",
    "\n",
    "def rect(x,y,c):\n",
    "    A = (x,y)\n",
    "    B = (x+c,y+c)\n",
    "    cnv.create_rectangle(A,B,fill=\"light blue\")\n",
    "    \n",
    "G = []\n",
    "\n",
    "for i in range(n):\n",
    "    G.append([])\n",
    "    for j in range(n):\n",
    "        t += 1\n",
    "        G[i].append(t)\n",
    "\n",
    "print(G)\n",
    "for i in range(n):\n",
    "    for j in range(n):\n",
    "        if G[i][j] != 16:\n",
    "            rect(x,y,c)\n",
    "            cnv.create_text(x+c/2,y+c/2,text=G[i][j])\n",
    "        x += c\n",
    "    x = 0\n",
    "    y += c\n",
    "\n",
    "root.mainloop()"
   ]
  },
  {
   "cell_type": "markdown",
   "metadata": {},
   "source": [
    "Exercice 4 : Solitaire et ses jetons"
   ]
  },
  {
   "cell_type": "code",
   "execution_count": 121,
   "metadata": {
    "collapsed": false
   },
   "outputs": [
    {
     "name": "stdout",
     "output_type": "stream",
     "text": [
      "250 250\n"
     ]
    }
   ],
   "source": [
    "from tkinter import *\n",
    "\n",
    "root = Tk()\n",
    "\n",
    "def chg(x,y,center):\n",
    "    return (x+center[0],y+center[1])\n",
    "\n",
    "def dot(x,y,r,couleur):\n",
    "    A = (x-r,y-r)\n",
    "    B = (x+r,y+r)\n",
    "    cnv.create_oval(A,B,fill=couleur, outline=couleur)\n",
    "    \n",
    "c = 500\n",
    "center = (c//2,c//2)\n",
    "x = 0\n",
    "y = 0\n",
    "r = 10\n",
    "e = 40\n",
    "\n",
    "(x,y) = chg(x,y,center)\n",
    "\n",
    "print(x,y)\n",
    "cnv=Canvas(root, width=c, height=c, background=\"ivory\")\n",
    "cnv.pack()\n",
    "cnv.create_oval(10,10,c-20,c-20, fill=\"dark orange\", outline=\"dark orange\")\n",
    "n = 7\n",
    "y = y-(c//2)+r*3\n",
    "\n",
    "for i in range(n):\n",
    "    y += 2*r+e\n",
    "    x = center[0]\n",
    "    if i==4 and j == 4:\n",
    "        couleur = \"light gray\"\n",
    "    else:\n",
    "        couleur = \"black\"\n",
    "        \n",
    "    if i <= 1 or i >= 5:\n",
    "        x = x-r*2-20\n",
    "        m = 3\n",
    "    else:\n",
    "        x = x-20*8\n",
    "        m = n\n",
    "    for j in range(m):\n",
    "        if i==3 and j == 3:\n",
    "            couleur = \"light gray\"\n",
    "        else:\n",
    "            couleur = \"black\"\n",
    "        dot(x-20,y-20,r,couleur)\n",
    "        x += 2*r+e\n",
    "    \n",
    "        \n",
    "\n",
    "        \n",
    "root.mainloop()"
   ]
  },
  {
   "cell_type": "markdown",
   "metadata": {},
   "source": [
    "Exercice 5 : Multipointeur Phaser"
   ]
  },
  {
   "cell_type": "code",
   "execution_count": 123,
   "metadata": {
    "collapsed": true
   },
   "outputs": [],
   "source": [
    "from tkinter import *\n",
    "root = Tk()\n",
    "c = 500\n",
    "cnv=Canvas(root, width=c, height=c, background=\"ivory\")\n",
    "cnv.pack()\n",
    "\n",
    "C = (100,100)\n",
    "\n",
    "def origin(B, C, L):\n",
    "    return (B[0]-L,B[1]-L)\n",
    "\n",
    "def shot(B, C, L):\n",
    "    \n",
    "\n",
    "root.mainloop()"
   ]
  }
 ],
 "metadata": {
  "kernelspec": {
   "display_name": "Python 3",
   "language": "python",
   "name": "python3"
  },
  "language_info": {
   "codemirror_mode": {
    "name": "ipython",
    "version": 3
   },
   "file_extension": ".py",
   "mimetype": "text/x-python",
   "name": "python",
   "nbconvert_exporter": "python",
   "pygments_lexer": "ipython3",
   "version": "3.5.3"
  }
 },
 "nbformat": 4,
 "nbformat_minor": 2
}
