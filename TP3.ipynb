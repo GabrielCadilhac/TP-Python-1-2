{
 "cells": [
  {
   "cell_type": "code",
   "execution_count": 104,
   "metadata": {
    "collapsed": false,
    "scrolled": true
   },
   "outputs": [],
   "source": [
    "from tkinter import *\n",
    "from random import *\n",
    "\n",
    "master=Tk()\n",
    "\n",
    "CANVAS_SIDE=400\n",
    "NB_SQUARES=4\n",
    "R=CANVAS_SIDE//NB_SQUARES\n",
    "CANVAS = []\n",
    "\n",
    "board=[[NB_SQUARES*lin+1+col for col in range(NB_SQUARES)] for lin in range(NB_SQUARES)]\n",
    "cnv=Canvas(master, width=CANVAS_SIDE, height=CANVAS_SIDE, bg='ivory')\n",
    "cnv.pack()\n",
    "\n",
    "def fill_board():\n",
    "    for i in range(NB_SQUARES):\n",
    "        for j in range(NB_SQUARES):\n",
    "            v=board[i][j]\n",
    "            if not v==16:\n",
    "                CANVAS.append(cnv.create_rectangle(j*R, i*R, (1+j)*R, (1+i)*R, fill=\"lavender\"))\n",
    "                CANVAS.append(cnv.create_text(j*R+R//2, i*R+R//2, text=v,  font=('courier', CANVAS_SIDE//10, 'bold')))\n",
    "\n",
    "def delete ():\n",
    "    for i in range(len(CANVAS)):\n",
    "        cnv.delete(CANVAS[i])\n",
    "\n",
    "def melanger():\n",
    "    delete()\n",
    "    L = []\n",
    "    M = []\n",
    "    for i in range(NB_SQUARES):\n",
    "        for j in range(NB_SQUARES):\n",
    "            L.append(board[i][j])\n",
    "    shuffle(L)\n",
    "    print(L)\n",
    "    \n",
    "    c=0\n",
    "    for i in range(NB_SQUARES):\n",
    "        M.append([])\n",
    "        for j in range(NB_SQUARES):\n",
    "            M[i].append(L[c])\n",
    "            c+=1\n",
    "            board[i][j] = M[i][j]\n",
    "            \n",
    "    fill_board()\n",
    "    \n",
    "        \n",
    "def draw():\n",
    "    fill_board()\n",
    "    \n",
    "draw()\n",
    "btn = Button(master, text=\"Mélanger\\nle taquin\", command=melanger)\n",
    "btn.pack(padx=10,pady=10)\n",
    "\n",
    "\n",
    "\n",
    "master.mainloop()\n",
    "    "
   ]
  },
  {
   "cell_type": "code",
   "execution_count": 121,
   "metadata": {
    "collapsed": false
   },
   "outputs": [],
   "source": [
    "from random import sample\n",
    "from tkinter import Tk, Canvas\n",
    "\n",
    "def random_forest(p, n):\n",
    "    units=[(line,col) for col in range(n) for line in range(n)]\n",
    "    ntrees=int(n**2*p)\n",
    "    trees=sample(units,ntrees)\n",
    "    states=[[0]*n for _ in range(n)]\n",
    "    for (i,j) in trees:\n",
    "        states[i][j]=1    \n",
    "    return states\n",
    "                \n",
    "def fill(cnv, states, unit):\n",
    "    c = 0\n",
    "    n=len(states)\n",
    "    for line in range(n):\n",
    "        for col in range(n):\n",
    "            A=(unit*col, unit*line)\n",
    "            B=(unit*(col+1), unit*(line+1))\n",
    "            state=states[line][col]\n",
    "            color=[\"ivory\", \"lime green\", \"red\", \"gray75\"][state]\n",
    "            cnv.create_rectangle(A, B, fill=color, outline='')\n",
    "    return c\n",
    "\n",
    "def fire():\n",
    "    n = len(states)\n",
    "    line = randrange(0,n)\n",
    "    col = randrange(0,n)\n",
    "    A=(unit*col, unit*line)\n",
    "    B=(unit*(col+1), unit*(line+1))\n",
    "    if states[line][col]==1:\n",
    "        cnv.create_rectangle(A, B, fill=\"orange\", outline='')\n",
    "    \n",
    "p=0.5\n",
    "n=50\n",
    "\n",
    "root = Tk()\n",
    "unit=10\n",
    "side=unit*n\n",
    "cnv = Canvas(root, width=unit*n, height=unit*n, background=\"ivory\")\n",
    "cnv.pack(padx=10, pady=10)\n",
    "\n",
    "states=random_forest(p,n)\n",
    "c = fill(cnv, states, unit)\n",
    "\n",
    "btn = Button(root, text=\"Mettre\\nle feu\", command=fire)\n",
    "btn.pack(padx=10,pady=10)\n",
    "\n",
    "lbl=Label(root, text=c, font='Arial 30 bold')\n",
    "lbl.pack(padx=0, pady=30)\n",
    "\n",
    "\n",
    "root.mainloop()\n"
   ]
  },
  {
   "cell_type": "code",
   "execution_count": null,
   "metadata": {
    "collapsed": true
   },
   "outputs": [],
   "source": []
  },
  {
   "cell_type": "code",
   "execution_count": null,
   "metadata": {
    "collapsed": true
   },
   "outputs": [],
   "source": []
  },
  {
   "cell_type": "code",
   "execution_count": null,
   "metadata": {
    "collapsed": true
   },
   "outputs": [],
   "source": []
  }
 ],
 "metadata": {
  "kernelspec": {
   "display_name": "Python 3",
   "language": "python",
   "name": "python3"
  },
  "language_info": {
   "codemirror_mode": {
    "name": "ipython",
    "version": 3
   },
   "file_extension": ".py",
   "mimetype": "text/x-python",
   "name": "python",
   "nbconvert_exporter": "python",
   "pygments_lexer": "ipython3",
   "version": "3.5.3"
  }
 },
 "nbformat": 4,
 "nbformat_minor": 2
}
